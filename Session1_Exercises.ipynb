{
  "nbformat": 4,
  "nbformat_minor": 0,
  "metadata": {
    "colab": {
      "name": "Session1_Exercises.ipynb",
      "provenance": [],
      "collapsed_sections": [],
      "authorship_tag": "ABX9TyMtBGrxfvw/uI5ELmqJUO4b",
      "include_colab_link": true
    },
    "kernelspec": {
      "name": "python3",
      "display_name": "Python 3"
    },
    "language_info": {
      "name": "python"
    }
  },
  "cells": [
    {
      "cell_type": "markdown",
      "metadata": {
        "id": "view-in-github",
        "colab_type": "text"
      },
      "source": [
        "<a href=\"https://colab.research.google.com/github/TendsToInfinity/ImplemenationOfLiquibase/blob/master/Session1_Exercises.ipynb\" target=\"_parent\"><img src=\"https://colab.research.google.com/assets/colab-badge.svg\" alt=\"Open In Colab\"/></a>"
      ]
    },
    {
      "cell_type": "markdown",
      "metadata": {
        "id": "H6OKnr8wqGeH"
      },
      "source": [
        "***\n",
        "<a id='section_id-ex1'></a>\n",
        "### <span style=\"background-color:#7FFFZD4\">Exercise-1</span>\n",
        "* **Alankrit Mishra**\n",
        "* **alm526@pitt.edu**\n",
        "***\n",
        "</div>\n",
        "\n",
        "<a id='section_id-ex2'></a>\n",
        "### <span style=\"background-color:#7FFFZD4\">Exercise-2</span>\n",
        "\n",
        "<div style=\"text-align: right\"> <a href='#section_id0'>Back to top of Notebook</a></div>\n"
      ]
    },
    {
      "cell_type": "code",
      "metadata": {
        "colab": {
          "base_uri": "https://localhost:8080/"
        },
        "id": "-2ARGtI0qa4k",
        "outputId": "b2f364b4-13b7-40ba-af70-5a63cd45890e"
      },
      "source": [
        "x = float(input(\"Please enter first number:\"))\n",
        "y = float(input(\"Please enter second number:\"))\n",
        "z = float(input(\"Please enter third number:\"))\n",
        "result = (x + y + z) / 3\n",
        "print(\"The average of three numbers: \" , result)"
      ],
      "execution_count": 2,
      "outputs": [
        {
          "output_type": "stream",
          "name": "stdout",
          "text": [
            "Please first number:-1\n",
            "Please second number:2\n",
            "Please third number:2.5\n",
            "The average of three numbers:  1.1666666666666667\n"
          ]
        }
      ]
    },
    {
      "cell_type": "markdown",
      "metadata": {
        "id": "R3Jg7sBsGtUg"
      },
      "source": [
        "<a id='section_id-ex2'></a>\n",
        "### <span style=\"background-color:#7FFFZD4\">Exercise-3</span>\n",
        "\n",
        "<div style=\"text-align: right\"> <a href='#section_id0'>Back to top of Notebook</a></div>"
      ]
    },
    {
      "cell_type": "code",
      "metadata": {
        "colab": {
          "base_uri": "https://localhost:8080/"
        },
        "id": "-H7uxVrIGy5i",
        "outputId": "8a4db764-169b-42fa-831d-efd3ee740db0"
      },
      "source": [
        "x = float(input(\"Please enter first number:\"))\n",
        "y = float(input(\"Please enter second number:\"))\n",
        "\n",
        "while x==y:\n",
        "      y= float(input(\"duplicate value! please enter a new value again:\"))\n",
        "      z = float(input(\"Please enter third number:\"))\n",
        "      while z==x or z==y:\n",
        "            z= float(input(\"duplicate value! please enter a new value again:\"))\n",
        "result = (x + y + z)/3\n",
        "print(\"The average of three numbers: \" , result)  "
      ],
      "execution_count": 9,
      "outputs": [
        {
          "output_type": "stream",
          "name": "stdout",
          "text": [
            "Please enter first number:1\n",
            "Please enter second number:1\n",
            "duplicate value! please enter a new value again:2\n",
            "Please enter third number:2\n",
            "duplicate value! please enter a new value again:2\n",
            "duplicate value! please enter a new value again:3\n",
            "The average of three numbers:  2.0\n"
          ]
        }
      ]
    },
    {
      "cell_type": "markdown",
      "metadata": {
        "id": "Zc08InzQCWOO"
      },
      "source": [
        "<a id='section_id-ex2'></a>\n",
        "### <span style=\"background-color:#7FFFZD4\">Exercise-4</span>\n",
        "\n",
        "<div style=\"text-align: right\"> <a href='#section_id0'>Back to top of Notebook</a></div>"
      ]
    },
    {
      "cell_type": "code",
      "metadata": {
        "colab": {
          "base_uri": "https://localhost:8080/"
        },
        "id": "0C-dEpl8CdjT",
        "outputId": "09c168d7-1924-4c65-fdc3-097d44302fa0"
      },
      "source": [
        "def getfirstnum():\n",
        "    x= float(input(\"Please enter first number:\"))\n",
        "    return x\n",
        "def getsecondnum(x):\n",
        "    y = float(input(\"Please enter second value:\")) \n",
        "    while y == x:\n",
        "      y= float(input(\"duplicate value! please enter a new value again:\"))\n",
        "      return y\n",
        "def getthirdnum(x,y):\n",
        "    z=float(input(\"Please enter third value:\"))\n",
        "    while z==y or z==x:\n",
        "      z= float(input(\"duplicate value! please enter a new value again:\"))\n",
        "      return z\n",
        "var1= getfirstnum()\n",
        "var2= getsecondnum(var1)\n",
        "var3= getthirdnum(var1,var2)\n",
        "avg = (var1+var2+var3)/3\n",
        "print(\"the average is :\", avg)\n"
      ],
      "execution_count": 18,
      "outputs": [
        {
          "output_type": "stream",
          "name": "stdout",
          "text": [
            "Please enter first number:1\n",
            "Please enter second value:1\n",
            "duplicate value! please enter a new value again:2\n",
            "Please enter third value:2\n",
            "duplicate value! please enter a new value again:3\n",
            "the average is : 2.0\n"
          ]
        }
      ]
    }
  ]
}